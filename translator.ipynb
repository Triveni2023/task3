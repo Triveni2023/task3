{
 "cells": [
  {
   "cell_type": "code",
   "execution_count": 1,
   "id": "5b33a7a7",
   "metadata": {},
   "outputs": [],
   "source": [
    "from googletrans import Translator"
   ]
  },
  {
   "cell_type": "code",
   "execution_count": 2,
   "id": "84d158b9",
   "metadata": {},
   "outputs": [],
   "source": [
    "def translate_text(text, source_language, target_language):\n",
    "    translator = Translator()\n",
    "    translation = translator.translate(text, src=source_language, dest=target_language)\n",
    "    return translation.text"
   ]
  },
  {
   "cell_type": "code",
   "execution_count": 7,
   "id": "0ed72018",
   "metadata": {},
   "outputs": [
    {
     "name": "stdout",
     "output_type": "stream",
     "text": [
      "Hello there!! Welcome to the Language Translator!\n",
      "choose your source language and have your text translated to your wanted language\n",
      "Enter the source language (e.g., en, es, fr): en\n",
      "Enter the target language (e.g., en, es, fr): es\n",
      "Enter the text to translate: hello people\n",
      "Here is your Translated Text: Hola gente\n",
      "Do you want to continue translating? (y/n): y\n",
      "Enter the source language (e.g., en, es, fr): fr\n",
      "Enter the target language (e.g., en, es, fr): en\n",
      "Enter the text to translate: ceci est un code court\n",
      "Here is your Translated Text: This is a short code\n",
      "Do you want to continue translating? (y/n): y\n",
      "Enter the source language (e.g., en, es, fr): en\n",
      "Enter the target language (e.g., en, es, fr): hi\n",
      "Enter the text to translate: in python\n",
      "Here is your Translated Text: पायथन में\n",
      "Do you want to continue translating? (y/n): y\n",
      "Enter the source language (e.g., en, es, fr): en\n",
      "Enter the target language (e.g., en, es, fr): ko\n",
      "Enter the text to translate: thank you!this is the code for translating texts\n",
      "Here is your Translated Text: 감사합니다! 이것은 텍스트 번역을위한 코드입니다.\n",
      "Do you want to continue translating? (y/n): n\n",
      "thank you for using!\n"
     ]
    }
   ],
   "source": [
    "if __name__ == \"__main__\":\n",
    "    print(\"Hello there!! Welcome to the Language Translator!\")\n",
    "    print(\"choose your source language and have your text translated to your wanted language\")\n",
    "    while True:\n",
    "        source_language = input(\"Enter the source language (e.g., en, es, fr): \")\n",
    "        target_language = input(\"Enter the target language (e.g., en, es, fr): \")\n",
    "        text_to_translate = input(\"Enter the text to translate: \")\n",
    "\n",
    "        translated_text = translate_text(text_to_translate, source_language, target_language)\n",
    "        print(\"Here is your Translated Text:\", translated_text)\n",
    "\n",
    "        continue_translation = input(\"Do you want to continue translating? (y/n): \")\n",
    "        if continue_translation.lower() != \"y\":\n",
    "            print(\"thank you for using!\")\n",
    "            break\n"
   ]
  },
  {
   "cell_type": "code",
   "execution_count": null,
   "id": "52aeace7",
   "metadata": {},
   "outputs": [],
   "source": []
  }
 ],
 "metadata": {
  "kernelspec": {
   "display_name": "Python 3 (ipykernel)",
   "language": "python",
   "name": "python3"
  },
  "language_info": {
   "codemirror_mode": {
    "name": "ipython",
    "version": 3
   },
   "file_extension": ".py",
   "mimetype": "text/x-python",
   "name": "python",
   "nbconvert_exporter": "python",
   "pygments_lexer": "ipython3",
   "version": "3.11.3"
  }
 },
 "nbformat": 4,
 "nbformat_minor": 5
}
